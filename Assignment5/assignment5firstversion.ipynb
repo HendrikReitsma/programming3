{
 "cells": [
  {
   "cell_type": "code",
   "execution_count": 30,
   "metadata": {},
   "outputs": [],
   "source": [
    "import pyspark\n",
    "import findspark\n",
    "from pyspark.sql import SparkSession\n",
    "from pyspark.sql import SQLContext\n",
    "from pyspark import SparkContext, SparkConf\n",
    "from pyspark.sql.types import StructType, StructField, IntegerType\n",
    "from pyspark.sql.functions import avg, col, mean, avg, countDistinct, desc, split\n",
    "import pyspark.sql.functions"
   ]
  },
  {
   "cell_type": "code",
   "execution_count": 2,
   "metadata": {},
   "outputs": [
    {
     "name": "stderr",
     "output_type": "stream",
     "text": [
      "WARNING: An illegal reflective access operation has occurred\n",
      "WARNING: Illegal reflective access by org.apache.spark.unsafe.Platform (file:/commons/conda/lib/python3.8/site-packages/pyspark/jars/spark-unsafe_2.12-3.1.2.jar) to constructor java.nio.DirectByteBuffer(long,int)\n",
      "WARNING: Please consider reporting this to the maintainers of org.apache.spark.unsafe.Platform\n",
      "WARNING: Use --illegal-access=warn to enable warnings of further illegal reflective access operations\n",
      "WARNING: All illegal access operations will be denied in a future release\n",
      "22/06/17 12:41:21 WARN NativeCodeLoader: Unable to load native-hadoop library for your platform... using builtin-java classes where applicable\n",
      "Using Spark's default log4j profile: org/apache/spark/log4j-defaults.properties\n",
      "Setting default log level to \"WARN\".\n",
      "To adjust logging level use sc.setLogLevel(newLevel). For SparkR, use setLogLevel(newLevel).\n"
     ]
    }
   ],
   "source": [
    "findspark.init()\n",
    "findspark.find()\n",
    "conf = pyspark.SparkConf().setAppName(\"hendrik_app\").setMaster('local[17]')\n",
    "sc = pyspark.SparkContext(conf=conf)\n",
    "spark = SparkSession(sc)\n",
    "sql_c = SQLContext(sc)\n",
    "\n",
    "df = sql_c.read.csv('/data/dataprocessing/interproscan/all_bacilli.tsv',header=False, sep=\"\\t\")\n",
    "df = df.toDF('protein_accession', 'sequence', 'sequence_length', \n",
    "'analysis', 'signature_accession', 'signature_description', 'start', 'stop', \n",
    "'score', 'status', 'date',  'interPro_annot_accession', 'interPro_annot_description', \n",
    "'GO_annotations', 'Pathways_annotations' \n",
    ")"
   ]
  },
  {
   "cell_type": "code",
   "execution_count": 3,
   "metadata": {},
   "outputs": [
    {
     "name": "stdout",
     "output_type": "stream",
     "text": [
      "+--------------------+--------------------+---------------+---------------+-------------------+---------------------+-----+----+-----------+------+----------+------------------------+--------------------------+--------------------+--------------------+\n",
      "|   protein_accession|            sequence|sequence_length|       analysis|signature_accession|signature_description|start|stop|      score|status|      date|interPro_annot_accession|interPro_annot_description|      GO_annotations|Pathways_annotations|\n",
      "+--------------------+--------------------+---------------+---------------+-------------------+---------------------+-----+----+-----------+------+----------+------------------------+--------------------------+--------------------+--------------------+\n",
      "|gi|29898682|gb|AA...|92d1264e347e14924...|            547|        TIGRFAM|          TIGR03882| cyclo_dehyd_2: ba...|    2| 131|    1.6E-21|     T|25-04-2022|               IPR022291|      Bacteriocin biosy...|                   -|                   -|\n",
      "|gi|29898682|gb|AA...|92d1264e347e14924...|            547|        TIGRFAM|          TIGR03604| TOMM_cyclo_SagD: ...|  161| 547|        0.0|     T|25-04-2022|               IPR027624|      Thiazole/oxazole-...|                   -|                   -|\n",
      "|gi|29898682|gb|AA...|92d1264e347e14924...|            547|ProSiteProfiles|            PS51664| YcaO domain profile.|  159| 547|  75.396477|     T|25-04-2022|               IPR003776|          YcaO-like domain|                   -|                   -|\n",
      "|gi|29898682|gb|AA...|92d1264e347e14924...|            547|         Gene3D| G3DSA:3.30.160.660|                    -|  311| 452|    9.1E-46|     T|25-04-2022|                       -|                         -|                null|                null|\n",
      "|gi|29898682|gb|AA...|92d1264e347e14924...|            547|         Gene3D|  G3DSA:3.30.40.250|                    -|  191| 274|    9.1E-46|     T|25-04-2022|                       -|                         -|                null|                null|\n",
      "|gi|29898682|gb|AA...|92d1264e347e14924...|            547|        PANTHER|          PTHR37809| RIBOSOMAL PROTEIN...|   95| 547|        0.0|     T|25-04-2022|                       -|                         -|                null|                null|\n",
      "|gi|29898682|gb|AA...|92d1264e347e14924...|            547|        TIGRFAM|          TIGR00702| TIGR00702: YcaO-t...|  161| 501|    2.2E-22|     T|25-04-2022|               IPR003776|          YcaO-like domain|                   -|                   -|\n",
      "|gi|29898682|gb|AA...|92d1264e347e14924...|            547|         Gene3D|G3DSA:3.30.1330.230|                    -|  168| 502|    9.1E-46|     T|25-04-2022|                       -|                         -|                null|                null|\n",
      "|gi|29898682|gb|AA...|92d1264e347e14924...|            547|           Pfam|            PF02624| YcaO cyclodehydra...|  161| 501|    8.6E-76|     T|25-04-2022|               IPR003776|          YcaO-like domain|                   -|                   -|\n",
      "|gi|29894058|gb|AA...|b993c5cdda01fc20b...|            233|        PANTHER|      PTHR48111:SF2| TWO-COMPONENT RES...|    1| 231|   7.9E-108|     T|25-04-2022|                       -|                         -|                null|                null|\n",
      "|gi|29894058|gb|AA...|b993c5cdda01fc20b...|            233|        PANTHER|          PTHR48111|    REGULATOR OF RPOS|    1| 231|   7.9E-108|     T|25-04-2022|               IPR039420|      Transcriptional r...|                   -|                   -|\n",
      "|gi|29894058|gb|AA...|b993c5cdda01fc20b...|            233|ProSiteProfiles|            PS51755| OmpR/PhoB-type DN...|  132| 231|  46.094009|     T|25-04-2022|               IPR001867|      OmpR/PhoB-type DN...|GO:0000160|GO:000...|                   -|\n",
      "|gi|29894058|gb|AA...|b993c5cdda01fc20b...|            233|          SMART|            SM00862|        Trans_reg_C_3|  153| 229|    2.7E-29|     T|25-04-2022|               IPR001867|      OmpR/PhoB-type DN...|GO:0000160|GO:000...|                   -|\n",
      "|gi|29894058|gb|AA...|b993c5cdda01fc20b...|            233|            CDD|            cd17574|             REC_OmpR|    7| 104|1.35431E-49|     T|25-04-2022|                       -|                         -|                null|                null|\n",
      "|gi|29894058|gb|AA...|b993c5cdda01fc20b...|            233|           Pfam|            PF00486| Transcriptional r...|  153| 229|    4.3E-30|     T|25-04-2022|               IPR001867|      OmpR/PhoB-type DN...|GO:0000160|GO:000...|                   -|\n",
      "|gi|29894058|gb|AA...|b993c5cdda01fc20b...|            233|            CDD|            cd00383|          trans_reg_C|  142| 229|8.80739E-38|     T|25-04-2022|               IPR001867|      OmpR/PhoB-type DN...|GO:0000160|GO:000...|                   -|\n",
      "|gi|29894058|gb|AA...|b993c5cdda01fc20b...|            233|          SMART|            SM00448|                REC_2|    4| 114|    7.7E-44|     T|25-04-2022|               IPR001789|      Signal transducti...|          GO:0000160|MetaCyc: PWY-4702...|\n",
      "|gi|29894058|gb|AA...|b993c5cdda01fc20b...|            233|         Gene3D|   G3DSA:1.10.10.10|                    -|  127| 232|    7.4E-37|     T|25-04-2022|               IPR036388|      Winged helix-like...|                   -|MetaCyc: PWY-1061...|\n",
      "|gi|29894058|gb|AA...|b993c5cdda01fc20b...|            233|    SUPERFAMILY|           SSF52172|            CheY-like|    4| 188|   4.83E-41|     T|25-04-2022|               IPR011006|      CheY-like superfa...|                   -|MetaCyc: PWY-46|M...|\n",
      "|gi|29894058|gb|AA...|b993c5cdda01fc20b...|            233|         Gene3D| G3DSA:3.40.50.2300|                    -|    5|  87|    3.9E-24|     T|25-04-2022|                       -|                         -|                null|                null|\n",
      "+--------------------+--------------------+---------------+---------------+-------------------+---------------------+-----+----+-----------+------+----------+------------------------+--------------------------+--------------------+--------------------+\n",
      "only showing top 20 rows\n",
      "\n"
     ]
    }
   ],
   "source": [
    "df.show()"
   ]
  },
  {
   "cell_type": "code",
   "execution_count": 4,
   "metadata": {},
   "outputs": [],
   "source": [
    "df = df.filter(df['GO_annotations'] != '-')"
   ]
  },
  {
   "cell_type": "code",
   "execution_count": 5,
   "metadata": {},
   "outputs": [
    {
     "data": {
      "text/plain": [
       "'interPro_annot_accession'"
      ]
     },
     "execution_count": 5,
     "metadata": {},
     "output_type": "execute_result"
    }
   ],
   "source": [
    "df.columns[11]"
   ]
  },
  {
   "cell_type": "code",
   "execution_count": 6,
   "metadata": {},
   "outputs": [
    {
     "name": "stdout",
     "output_type": "stream",
     "text": [
      "+------------------------+\n",
      "|interPro_annot_accession|\n",
      "+------------------------+\n",
      "|               IPR001867|\n",
      "|               IPR001867|\n",
      "|               IPR001867|\n",
      "|               IPR001867|\n",
      "|               IPR001789|\n",
      "|               IPR001789|\n",
      "|               IPR001789|\n",
      "|               IPR000551|\n",
      "|               IPR000551|\n",
      "|               IPR000551|\n",
      "|               IPR004636|\n",
      "|               IPR005814|\n",
      "|               IPR015421|\n",
      "|               IPR005814|\n",
      "|               IPR005814|\n",
      "|               IPR005814|\n",
      "|               IPR005814|\n",
      "|               IPR005814|\n",
      "|               IPR015422|\n",
      "|               IPR004636|\n",
      "+------------------------+\n",
      "only showing top 20 rows\n",
      "\n"
     ]
    }
   ],
   "source": [
    "df.select('interPro_annot_accession').show()"
   ]
  },
  {
   "cell_type": "markdown",
   "metadata": {},
   "source": [
    "Question 1:"
   ]
  },
  {
   "cell_type": "code",
   "execution_count": 7,
   "metadata": {},
   "outputs": [
    {
     "name": "stderr",
     "output_type": "stream",
     "text": [
      "[Stage 3:===================================================>     (76 + 8) / 84]\r"
     ]
    },
    {
     "name": "stdout",
     "output_type": "stream",
     "text": [
      "== Physical Plan ==\n",
      "*(2) HashAggregate(keys=[interPro_annot_accession#57], functions=[])\n",
      "+- Exchange hashpartitioning(interPro_annot_accession#57, 200), ENSURE_REQUIREMENTS, [id=#92]\n",
      "   +- *(1) HashAggregate(keys=[interPro_annot_accession#57], functions=[])\n",
      "      +- *(1) Project [_c11#27 AS interPro_annot_accession#57]\n",
      "         +- *(1) Filter (isnotnull(_c13#29) AND NOT (_c13#29 = -))\n",
      "            +- FileScan csv [_c11#27,_c13#29] Batched: false, DataFilters: [isnotnull(_c13#29), NOT (_c13#29 = -)], Format: CSV, Location: InMemoryFileIndex[file:/data/dataprocessing/interproscan/all_bacilli.tsv], PartitionFilters: [], PushedFilters: [IsNotNull(_c13), Not(EqualTo(_c13,-))], ReadSchema: struct<_c11:string,_c13:string>\n",
      "\n",
      "\n"
     ]
    },
    {
     "name": "stderr",
     "output_type": "stream",
     "text": [
      "                                                                                \r"
     ]
    }
   ],
   "source": [
    "unique_GOs = len(df.select('interPro_annot_accession').distinct().collect())\n",
    "unique_GOs = df.select('interPro_annot_accession').distinct()\n",
    "print(unique_GOs._sc._jvm.PythonSQLUtils.explainString(unique_GOs._jdf.queryExecution(), 'simple'))\n",
    "# unique_GOs"
   ]
  },
  {
   "cell_type": "markdown",
   "metadata": {},
   "source": [
    "Question 2: ( wrong )"
   ]
  },
  {
   "cell_type": "code",
   "execution_count": 8,
   "metadata": {},
   "outputs": [],
   "source": [
    "GO_counts = df.groupBy('interPro_annot_accession').count().sort('count')\n",
    "# # GO_counts_list = [i for i in range(len(GO_counts))]\n",
    "# GO_counts_list = []\n",
    "\n",
    "# for i in range(df.count()):\n",
    "#     count = GO_counts.orderBy(desc('count')).take(df.count())[2][i]\n",
    "#     GO_counts_list.append(count)\n",
    "    "
   ]
  },
  {
   "cell_type": "markdown",
   "metadata": {},
   "source": [
    "Question 3:"
   ]
  },
  {
   "cell_type": "code",
   "execution_count": 9,
   "metadata": {},
   "outputs": [
    {
     "name": "stderr",
     "output_type": "stream",
     "text": [
      "                                                                                \r"
     ]
    },
    {
     "data": {
      "text/plain": [
       "'GO:0003700|GO:0006355'"
      ]
     },
     "execution_count": 9,
     "metadata": {},
     "output_type": "execute_result"
    }
   ],
   "source": [
    "Day_count = df.groupby(df.columns[13]).count()\n",
    "Day_count.orderBy(desc('count')).take(10)[0][0]"
   ]
  },
  {
   "cell_type": "markdown",
   "metadata": {},
   "source": [
    "Question 4: ?"
   ]
  },
  {
   "cell_type": "code",
   "execution_count": 10,
   "metadata": {},
   "outputs": [
    {
     "name": "stderr",
     "output_type": "stream",
     "text": [
      "[Stage 7:================================================>       (72 + 12) / 84]\r"
     ]
    },
    {
     "name": "stdout",
     "output_type": "stream",
     "text": [
      "+---------------------+\n",
      "|avg(avg(diff_length))|\n",
      "+---------------------+\n",
      "|   0.6347509732551729|\n",
      "+---------------------+\n",
      "\n"
     ]
    },
    {
     "name": "stderr",
     "output_type": "stream",
     "text": [
      "                                                                                \r"
     ]
    }
   ],
   "source": [
    "df = df.withColumn('diff_length', ( df[\"stop\"] - df[\"start\"]) / df['sequence_length'])\n",
    "\n",
    "GO_length = df.groupBy('interPro_annot_accession').mean('diff_length')\n",
    "GO_length.columns\n",
    "# GO_length.select('avg(diff_length)').show()\n",
    "GO_length.agg({'avg(diff_length)': 'mean'}).show()"
   ]
  },
  {
   "cell_type": "markdown",
   "metadata": {},
   "source": [
    "Question 5:"
   ]
  },
  {
   "cell_type": "code",
   "execution_count": 11,
   "metadata": {},
   "outputs": [
    {
     "name": "stderr",
     "output_type": "stream",
     "text": [
      "                                                                                \r"
     ]
    },
    {
     "data": {
      "text/plain": [
       "['IPR003439',\n",
       " 'IPR000515',\n",
       " 'IPR001789',\n",
       " 'IPR000182',\n",
       " 'IPR004358',\n",
       " 'IPR000835',\n",
       " 'IPR000524',\n",
       " 'IPR001647',\n",
       " 'IPR001867',\n",
       " 'IPR017871']"
      ]
     },
     "execution_count": 11,
     "metadata": {},
     "output_type": "execute_result"
    }
   ],
   "source": [
    "question5 = df.groupby(df['interPro_annot_accession']).count()\n",
    "res=[]\n",
    "for i in question5.orderBy(desc('count')).take(10):\n",
    "    res.append(i[0])\n",
    "res"
   ]
  },
  {
   "cell_type": "markdown",
   "metadata": {},
   "source": [
    "Question 6: If you select InterPRO features that are almost the same size (within 90-100%) as the protein itself, what is the top10 then?"
   ]
  },
  {
   "cell_type": "code",
   "execution_count": 12,
   "metadata": {},
   "outputs": [],
   "source": [
    "# df = df.withColumn('diff_length', (df[\"stop\"] - df[\"start\"]) / df['sequence_length']) "
   ]
  },
  {
   "cell_type": "code",
   "execution_count": 13,
   "metadata": {},
   "outputs": [
    {
     "name": "stderr",
     "output_type": "stream",
     "text": [
      "                                                                                \r"
     ]
    },
    {
     "data": {
      "text/plain": [
       "['IPR006308',\n",
       " 'IPR006308',\n",
       " 'IPR006308',\n",
       " 'IPR006308',\n",
       " 'IPR006308',\n",
       " 'IPR006308',\n",
       " 'IPR006308',\n",
       " 'IPR006308',\n",
       " 'IPR006308',\n",
       " 'IPR006308']"
      ]
     },
     "execution_count": 13,
     "metadata": {},
     "output_type": "execute_result"
    }
   ],
   "source": [
    "question6 = df.filter(df['diff_length'] >= 0.90)\n",
    "# question6.show()\n",
    "# df['interPro_annot_accession']\n",
    "res=[]\n",
    "question6.orderBy(desc('diff_length')).take(10)\n",
    "for i in question6.orderBy(desc('diff_length')).take(10):\n",
    "    res.append(i[11])\n",
    "res"
   ]
  },
  {
   "cell_type": "markdown",
   "metadata": {},
   "source": [
    "Question 7:"
   ]
  },
  {
   "cell_type": "code",
   "execution_count": 28,
   "metadata": {},
   "outputs": [
    {
     "data": {
      "text/plain": [
       "'interPro_annot_description'"
      ]
     },
     "execution_count": 28,
     "metadata": {},
     "output_type": "execute_result"
    }
   ],
   "source": [
    "df.columns[12]"
   ]
  },
  {
   "cell_type": "code",
   "execution_count": 43,
   "metadata": {},
   "outputs": [
    {
     "ename": "TypeError",
     "evalue": "split() missing 1 required positional argument: 'pattern'",
     "output_type": "error",
     "traceback": [
      "\u001b[0;31m---------------------------------------------------------------------------\u001b[0m",
      "\u001b[0;31mTypeError\u001b[0m                                 Traceback (most recent call last)",
      "\u001b[0;32m/tmp/ipykernel_348166/1619584027.py\u001b[0m in \u001b[0;36m<module>\u001b[0;34m\u001b[0m\n\u001b[1;32m      1\u001b[0m \u001b[0;31m# df.select('interPro_annot_description').show(1)\u001b[0m\u001b[0;34m\u001b[0m\u001b[0;34m\u001b[0m\u001b[0;34m\u001b[0m\u001b[0m\n\u001b[0;32m----> 2\u001b[0;31m \u001b[0mquestion7\u001b[0m \u001b[0;34m=\u001b[0m \u001b[0msplit\u001b[0m\u001b[0;34m(\u001b[0m\u001b[0;34m\",\"\u001b[0m\u001b[0;34m,\u001b[0m\u001b[0mlimit\u001b[0m\u001b[0;34m=\u001b[0m\u001b[0;36m12\u001b[0m\u001b[0;34m)\u001b[0m\u001b[0;34m\u001b[0m\u001b[0;34m\u001b[0m\u001b[0m\n\u001b[0m\u001b[1;32m      3\u001b[0m \u001b[0mquestion7\u001b[0m\u001b[0;34m.\u001b[0m\u001b[0mgetItem\u001b[0m\u001b[0;34m(\u001b[0m\u001b[0;36m1\u001b[0m\u001b[0;34m)\u001b[0m\u001b[0;34m\u001b[0m\u001b[0;34m\u001b[0m\u001b[0m\n",
      "\u001b[0;31mTypeError\u001b[0m: split() missing 1 required positional argument: 'pattern'"
     ]
    }
   ],
   "source": [
    "# df.select('interPro_annot_description').show(1)\n",
    "question7 = split(df['interPro_annot_description'],\",\",limit=None)\n",
    "question7.getItem(1)"
   ]
  },
  {
   "cell_type": "code",
   "execution_count": 60,
   "metadata": {},
   "outputs": [
    {
     "ename": "AssertionError",
     "evalue": "col should be Column",
     "output_type": "error",
     "traceback": [
      "\u001b[0;31m---------------------------------------------------------------------------\u001b[0m",
      "\u001b[0;31mAssertionError\u001b[0m                            Traceback (most recent call last)",
      "\u001b[0;32m/tmp/ipykernel_348166/3310691581.py\u001b[0m in \u001b[0;36m<module>\u001b[0;34m\u001b[0m\n\u001b[1;32m      1\u001b[0m \u001b[0mres\u001b[0m \u001b[0;34m=\u001b[0m  \u001b[0mdf\u001b[0m\u001b[0;34m.\u001b[0m\u001b[0mselect\u001b[0m\u001b[0;34m(\u001b[0m\u001b[0msplit\u001b[0m\u001b[0;34m(\u001b[0m\u001b[0mdf\u001b[0m\u001b[0;34m[\u001b[0m\u001b[0;34m'interPro_annot_description'\u001b[0m\u001b[0;34m]\u001b[0m\u001b[0;34m,\u001b[0m \u001b[0;34m\"\\\\s\"\u001b[0m\u001b[0;34m)\u001b[0m\u001b[0;34m.\u001b[0m\u001b[0malias\u001b[0m\u001b[0;34m(\u001b[0m\u001b[0;34m'str'\u001b[0m\u001b[0;34m)\u001b[0m\u001b[0;34m)\u001b[0m\u001b[0;34m\u001b[0m\u001b[0;34m\u001b[0m\u001b[0m\n\u001b[0;32m----> 2\u001b[0;31m \u001b[0mdf\u001b[0m \u001b[0;34m=\u001b[0m \u001b[0mdf\u001b[0m\u001b[0;34m.\u001b[0m\u001b[0mwithColumn\u001b[0m\u001b[0;34m(\u001b[0m\u001b[0;34m'sep_column'\u001b[0m\u001b[0;34m,\u001b[0m\u001b[0mres\u001b[0m\u001b[0;34m)\u001b[0m\u001b[0;34m\u001b[0m\u001b[0;34m\u001b[0m\u001b[0m\n\u001b[0m\u001b[1;32m      3\u001b[0m \u001b[0mdf\u001b[0m\u001b[0;34m\u001b[0m\u001b[0;34m\u001b[0m\u001b[0m\n",
      "\u001b[0;32m/commons/conda/lib/python3.8/site-packages/pyspark/sql/dataframe.py\u001b[0m in \u001b[0;36mwithColumn\u001b[0;34m(self, colName, col)\u001b[0m\n\u001b[1;32m   2452\u001b[0m \u001b[0;34m\u001b[0m\u001b[0m\n\u001b[1;32m   2453\u001b[0m         \"\"\"\n\u001b[0;32m-> 2454\u001b[0;31m         \u001b[0;32massert\u001b[0m \u001b[0misinstance\u001b[0m\u001b[0;34m(\u001b[0m\u001b[0mcol\u001b[0m\u001b[0;34m,\u001b[0m \u001b[0mColumn\u001b[0m\u001b[0;34m)\u001b[0m\u001b[0;34m,\u001b[0m \u001b[0;34m\"col should be Column\"\u001b[0m\u001b[0;34m\u001b[0m\u001b[0;34m\u001b[0m\u001b[0m\n\u001b[0m\u001b[1;32m   2455\u001b[0m         \u001b[0;32mreturn\u001b[0m \u001b[0mDataFrame\u001b[0m\u001b[0;34m(\u001b[0m\u001b[0mself\u001b[0m\u001b[0;34m.\u001b[0m\u001b[0m_jdf\u001b[0m\u001b[0;34m.\u001b[0m\u001b[0mwithColumn\u001b[0m\u001b[0;34m(\u001b[0m\u001b[0mcolName\u001b[0m\u001b[0;34m,\u001b[0m \u001b[0mcol\u001b[0m\u001b[0;34m.\u001b[0m\u001b[0m_jc\u001b[0m\u001b[0;34m)\u001b[0m\u001b[0;34m,\u001b[0m \u001b[0mself\u001b[0m\u001b[0;34m.\u001b[0m\u001b[0msql_ctx\u001b[0m\u001b[0;34m)\u001b[0m\u001b[0;34m\u001b[0m\u001b[0;34m\u001b[0m\u001b[0m\n\u001b[1;32m   2456\u001b[0m \u001b[0;34m\u001b[0m\u001b[0m\n",
      "\u001b[0;31mAssertionError\u001b[0m: col should be Column"
     ]
    }
   ],
   "source": [
    "df = df.withColumn('sep_column', df.select(split(df['interPro_annot_description'], \"\\\\s\").alias('str')))\n",
    "df"
   ]
  },
  {
   "cell_type": "code",
   "execution_count": null,
   "metadata": {},
   "outputs": [],
   "source": []
  }
 ],
 "metadata": {
  "kernelspec": {
   "display_name": "Python 3.8.12 ('base')",
   "language": "python",
   "name": "python3"
  },
  "language_info": {
   "codemirror_mode": {
    "name": "ipython",
    "version": 3
   },
   "file_extension": ".py",
   "mimetype": "text/x-python",
   "name": "python",
   "nbconvert_exporter": "python",
   "pygments_lexer": "ipython3",
   "version": "3.8.12"
  },
  "orig_nbformat": 4,
  "vscode": {
   "interpreter": {
    "hash": "ca1b872015604588654afab8889c327752f46265fe55163fa640f2d3ca6aaea6"
   }
  }
 },
 "nbformat": 4,
 "nbformat_minor": 2
}
